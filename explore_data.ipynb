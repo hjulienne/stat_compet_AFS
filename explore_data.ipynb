{
 "metadata": {
  "name": "",
  "signature": "sha256:54f2b2c4d2ccc5ceddf31eb4d425b560dbf88e69621c051ae31edfce55349e33"
 },
 "nbformat": 3,
 "nbformat_minor": 0,
 "worksheets": [
  {
   "cells": [
    {
     "cell_type": "code",
     "collapsed": false,
     "input": [
      "\"\"\"\n",
      "Computation and viz to better understand the dataset\n",
      "\"\"\"\n",
      "import pandas as pd\n",
      "from pandas.tools.plotting import scatter_matrix\n",
      "from sklearn import linear_model\n",
      "import matplotlib.pyplot as plt \n",
      "import numpy.random as rd\n",
      "import numpy as np\n",
      "import os.path \n",
      "from sklearn.decomposition import PCA\n",
      "from matplotlib.backends.backend_pdf import PdfPages\n",
      "from sklearn.preprocessing import normalize"
     ],
     "language": "python",
     "metadata": {},
     "outputs": [],
     "prompt_number": 13
    },
    {
     "cell_type": "code",
     "collapsed": false,
     "input": [
      "%matplotlib inline"
     ],
     "language": "python",
     "metadata": {},
     "outputs": [],
     "prompt_number": 14
    },
    {
     "cell_type": "code",
     "collapsed": false,
     "input": [
      "fi = \"./data/training_other.csv\"\n",
      "data_soil = pd.read_csv(fi, sep= '\\t')\n",
      "\n",
      "fi_spec = \"./data/sorted_test_spectra.csv\"\n",
      "spec = pd.read_csv(fi_spec, sep='\\t')\n",
      "ids_feat = range(1,16) + [22] \n",
      "ids_targ = range(17,22)"
     ],
     "language": "python",
     "metadata": {},
     "outputs": [],
     "prompt_number": 9
    },
    {
     "cell_type": "code",
     "collapsed": false,
     "input": [
      "draw = False\n",
      "#######draw features with the spectrum sum#########:\n",
      "if draw:\n",
      "    samp= rd.random_integers(0, data_soil.shape[0], 500)\n",
      "\n",
      "    scat_feat = scatter_matrix(data_soil.ix[samp, ids_feat], alpha= 0.3, figsize=(15,15), diagonal='kde')\n",
      "    plt.savefig(\"./plots/scatter_feat.pdf\")\n",
      "\n",
      "    scat_target =  scatter_matrix(data_soil.ix[samp, ids_targ], alpha= 0.3, figsize=(6,6), diagonal='kde')\n",
      "    plt.savefig(\"./plots/scatter_target.pdf\")\n"
     ],
     "language": "python",
     "metadata": {},
     "outputs": []
    },
    {
     "cell_type": "code",
     "collapsed": false,
     "input": [
      "#represent distribution of every features and targets (with kde)\n",
      "kde_plots = PdfPages(\"./plots/KDE_plot.pdf\")\n",
      "\n",
      "for i in data_soil:\n",
      "    if i != \"Depth\":\n",
      "        fig_i = plt.figure()\n",
      "        data_soil[i].plot(kind=\"kde\")\n",
      "        plt.xlabel(i)\n",
      "        plt.savefig(kde_plots, format='pdf')\n",
      "        plt.clf()\n",
      "kde_plots.close()\n"
     ],
     "language": "python",
     "metadata": {},
     "outputs": [
      {
       "output_type": "stream",
       "stream": "stderr",
       "text": [
        "/usr/lib/pymodules/python2.7/matplotlib/pyplot.py:412: RuntimeWarning: More than 20 figures have been opened. Figures created through the pyplot interface (`matplotlib.pyplot.figure`) are retained until explicitly closed and may consume too much memory. (To control this warning, see the rcParam `figure.max_num_figures`).\n",
        "  max_open_warning, RuntimeWarning)\n"
       ]
      },
      {
       "metadata": {},
       "output_type": "display_data",
       "text": [
        "<matplotlib.figure.Figure at 0x7f12ba86e650>"
       ]
      },
      {
       "metadata": {},
       "output_type": "display_data",
       "text": [
        "<matplotlib.figure.Figure at 0x7f12baaf0590>"
       ]
      },
      {
       "metadata": {},
       "output_type": "display_data",
       "text": [
        "<matplotlib.figure.Figure at 0x7f12bc298c90>"
       ]
      },
      {
       "metadata": {},
       "output_type": "display_data",
       "text": [
        "<matplotlib.figure.Figure at 0x7f12ba885c10>"
       ]
      },
      {
       "metadata": {},
       "output_type": "display_data",
       "text": [
        "<matplotlib.figure.Figure at 0x7f12ba75e950>"
       ]
      },
      {
       "metadata": {},
       "output_type": "display_data",
       "text": [
        "<matplotlib.figure.Figure at 0x7f12ba74ecd0>"
       ]
      },
      {
       "metadata": {},
       "output_type": "display_data",
       "text": [
        "<matplotlib.figure.Figure at 0x7f12bc2613d0>"
       ]
      },
      {
       "metadata": {},
       "output_type": "display_data",
       "text": [
        "<matplotlib.figure.Figure at 0x7f12bc7bd6d0>"
       ]
      },
      {
       "metadata": {},
       "output_type": "display_data",
       "text": [
        "<matplotlib.figure.Figure at 0x7f12baa24310>"
       ]
      },
      {
       "metadata": {},
       "output_type": "display_data",
       "text": [
        "<matplotlib.figure.Figure at 0x7f12bc242f50>"
       ]
      },
      {
       "metadata": {},
       "output_type": "display_data",
       "text": [
        "<matplotlib.figure.Figure at 0x7f12ba770550>"
       ]
      },
      {
       "metadata": {},
       "output_type": "display_data",
       "text": [
        "<matplotlib.figure.Figure at 0x7f12bc0affd0>"
       ]
      },
      {
       "metadata": {},
       "output_type": "display_data",
       "text": [
        "<matplotlib.figure.Figure at 0x7f12bc091690>"
       ]
      },
      {
       "metadata": {},
       "output_type": "display_data",
       "text": [
        "<matplotlib.figure.Figure at 0x7f12bbfae350>"
       ]
      },
      {
       "metadata": {},
       "output_type": "display_data",
       "text": [
        "<matplotlib.figure.Figure at 0x7f12bc115310>"
       ]
      },
      {
       "metadata": {},
       "output_type": "display_data",
       "text": [
        "<matplotlib.figure.Figure at 0x7f12baa6e150>"
       ]
      },
      {
       "metadata": {},
       "output_type": "display_data",
       "text": [
        "<matplotlib.figure.Figure at 0x7f12bc047890>"
       ]
      },
      {
       "metadata": {},
       "output_type": "display_data",
       "text": [
        "<matplotlib.figure.Figure at 0x7f12bc0af450>"
       ]
      },
      {
       "metadata": {},
       "output_type": "display_data",
       "text": [
        "<matplotlib.figure.Figure at 0x7f12ba879750>"
       ]
      },
      {
       "metadata": {},
       "output_type": "display_data",
       "text": [
        "<matplotlib.figure.Figure at 0x7f12baa83ad0>"
       ]
      },
      {
       "metadata": {},
       "output_type": "display_data",
       "text": [
        "<matplotlib.figure.Figure at 0x7f12bbfc2fd0>"
       ]
      },
      {
       "metadata": {},
       "output_type": "display_data",
       "text": [
        "<matplotlib.figure.Figure at 0x7f12bc1c73d0>"
       ]
      },
      {
       "metadata": {},
       "output_type": "display_data",
       "text": [
        "<matplotlib.figure.Figure at 0x7f12bc11b550>"
       ]
      },
      {
       "metadata": {},
       "output_type": "display_data",
       "text": [
        "<matplotlib.figure.Figure at 0x7f12bc1e4bd0>"
       ]
      },
      {
       "metadata": {},
       "output_type": "display_data",
       "text": [
        "<matplotlib.figure.Figure at 0x7f12bc032b50>"
       ]
      }
     ],
     "prompt_number": 10
    },
    {
     "cell_type": "code",
     "collapsed": false,
     "input": [
      "## Apply PCA on feature and on targets separately\n",
      "## Goal : understand the underlying structure of the data\n",
      "pca_plots = PdfPages(\"./plots/PCA_res.pdf\")\n",
      "PCA_feat  = PCA(copy=True)\n",
      "PCA_targ  = PCA(copy=True)\n",
      "\n",
      "PCA_feat.fit(data_soil.ix[:,ids_feat] )\n",
      "#PCA_targ.fit(data_soil.ix[:,ids_targ] )\n",
      "\n",
      "print(PCA_feat.explained_variance_ratio_)\n",
      "#print(PCA_targ.explained_variance_ratio_)\n",
      "plt.figure()\n",
      "plt.subplot(121)\n",
      "plt.plot(range(1,17), PCA_feat.explained_variance_ratio_, marker='*')\n",
      "plt.subplot(122)\n",
      "plt.plot(range(1,17), PCA_feat.explained_variance_ratio_.cumsum(), marker='*')\n",
      "plt.savefig(pca_plots, format='pdf')\n",
      "Xt = PCA_feat.transform(data_soil.ix[:,ids_feat])\n",
      "samp= rd.random_integers(0, data_soil.shape[0], 500)\n",
      "for i in range(5):\n",
      "    plt.figure()\n",
      "    plt.scatter(Xt[:,i],Xt[:,(i+1)], alpha=0.8, c= data_soil[\"pH\"], cmap=plt.get_cmap(\"RdYlGn\"))\n",
      "    plt.savefig(pca_plots, format='pdf')\n",
      "pca_plots.close()"
     ],
     "language": "python",
     "metadata": {},
     "outputs": []
    },
    {
     "cell_type": "code",
     "collapsed": false,
     "input": [
      "##############Apply PCA on spectra######\n",
      "#### We apply PCA on sample and not on features (meaning we search the representative spectrum)\n",
      "\n",
      "#pcaS_plt = PdfPages(\"./plots/PCA_Spec.pdf\")\n",
      "PCA_spec  = PCA(copy=True)\n",
      "\n",
      "PCA_spec.fit(spec.transpose().values[1:,:])\n",
      "n_comp = 5\n",
      "plt.figure()\n",
      "plt.subplot(121)\n",
      "plt.plot(range(1, (n_comp+1)), PCA_spec.explained_variance_ratio_[:n_comp], marker='*')\n",
      "plt.subplot(122)\n",
      "plt.plot(range(1,(n_comp+1)), PCA_spec.explained_variance_ratio_.cumsum()[:n_comp], marker='*')\n",
      "plt.savefig(pcaS_plt, format='pdf')\n",
      "\n",
      "spec_t = PCA_spec.transform(spec.transpose().values[1:,:])\n",
      "wavelength = spec.columns.values[1:].astype(\"float\")\n",
      "plt.figure()\n",
      "cols = plt.get_cmap(\"Paired\")(np.linspace(0,1,10))\n",
      "for j in range(10):\n",
      "    labe = str(j)\n",
      "    plt.plot(wavelength, spec_t[:,j], label=j, color= cols )#(1,1-cols[j],cols[j]))\n",
      "    \n",
      "plt.legend()\n",
      "#plt.savefig(pcaS_plt, format='pdf')\n",
      "#pcaS_plt.close()\n",
      "plt.show()\n",
      "####Projection on the 6 first spectra component:\n",
      "spec_comp = spec.iloc[:,1:].values.dot(spec_t[:,:6])\n",
      "spec_comp = normalize(spec_comp, axis=1)\n",
      "spec_comp = pd.DataFrame(spec_comp)\n",
      "spec_comp.to_csv(\"./data/spec_component_test.csv\",sep=\"\\t\", index=False)\n"
     ],
     "language": "python",
     "metadata": {},
     "outputs": [
      {
       "metadata": {},
       "output_type": "display_data",
       "png": "[encoded data removed]",
       "text": [
        "<matplotlib.figure.Figure at 0x7f12bc2bbcd0>"
       ]
      },
      {
       "metadata": {},
       "output_type": "display_data",
       "text": [
        "<matplotlib.figure.Figure at 0x7f12bbff0590>"
       ]
      }
     ],
     "prompt_number": 17
    },
    {
     "cell_type": "code",
     "collapsed": false,
     "input": [],
     "language": "python",
     "metadata": {},
     "outputs": []
    }
   ],
   "metadata": {}
  }
 ]
}